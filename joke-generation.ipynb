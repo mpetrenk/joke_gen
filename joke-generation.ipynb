{
 "cells": [
  {
   "cell_type": "code",
   "execution_count": 53,
   "metadata": {},
   "outputs": [],
   "source": [
    "import csv\n",
    "import pandas\n",
    "import tensorflow as tf\n",
    "from tensorflow.keras.preprocessing.sequence import pad_sequences\n",
    "from tensorflow.keras.layers import Embedding, LSTM, Dense, Bidirectional\n",
    "from tensorflow.keras.preprocessing.text import Tokenizer\n",
    "from tensorflow.keras.models import Sequential\n",
    "from tensorflow.keras.optimizers import Adam\n",
    "import numpy as np "
   ]
  },
  {
   "cell_type": "code",
   "execution_count": 54,
   "metadata": {},
   "outputs": [],
   "source": [
    "filename = '/yourpath/shortjokes.csv'"
   ]
  },
  {
   "cell_type": "code",
   "execution_count": 55,
   "metadata": {},
   "outputs": [
    {
     "name": "stdout",
     "output_type": "stream",
     "text": [
      "            ID                                               Joke\n",
      "0            1  [me narrating a documentary about narrators] \"...\n",
      "1            2  Telling my daughter garlic is good for you. Go...\n",
      "2            3  I've been going through a really rough period ...\n",
      "3            4  If I could have dinner with anyone, dead or al...\n",
      "4            5     Two guys walk into a bar. The third guy ducks.\n",
      "...        ...                                                ...\n",
      "231652  231653                The Spicy Sausage by Delia Katessen\n",
      "231653  231654  TIL That I Shouldn't have gone to law school, ...\n",
      "231654  231655  What did the RAM stick say to the politician? ...\n",
      "231655  231656  what do you call a play about victorian era me...\n",
      "231656  231657  Calculus should be taught in every high school...\n",
      "\n",
      "[231657 rows x 2 columns]\n"
     ]
    }
   ],
   "source": [
    "df = pandas.read_csv(filename)\n",
    "print(df)"
   ]
  },
  {
   "cell_type": "code",
   "execution_count": 56,
   "metadata": {},
   "outputs": [],
   "source": [
    "#Convert the dataframe into a dictionary\n",
    "data = dict(zip(df.ID, df.Joke))"
   ]
  },
  {
   "cell_type": "code",
   "execution_count": 1,
   "metadata": {},
   "outputs": [],
   "source": [
    "#print(data[10420])"
   ]
  },
  {
   "cell_type": "code",
   "execution_count": 58,
   "metadata": {},
   "outputs": [],
   "source": [
    "#create a list of jokes\n",
    "jokes = list(data.values())\n",
    "jokes = [j.lower() for j in jokes] #lowercase everything"
   ]
  },
  {
   "cell_type": "code",
   "execution_count": 2,
   "metadata": {},
   "outputs": [],
   "source": [
    "#print(jokes[2:4])"
   ]
  },
  {
   "cell_type": "code",
   "execution_count": 337,
   "metadata": {},
   "outputs": [
    {
     "data": {
      "text/plain": [
       "2000"
      ]
     },
     "execution_count": 337,
     "metadata": {},
     "output_type": "execute_result"
    }
   ],
   "source": [
    "#taking a sample of 2K jokes from the original set of 230K - bigger samples seem to crash the kernel \n",
    "jokes_short = jokes[:2000]\n",
    "len(jokes_short)"
   ]
  },
  {
   "cell_type": "code",
   "execution_count": 3,
   "metadata": {},
   "outputs": [],
   "source": [
    "#print(jokes_short[:10])"
   ]
  },
  {
   "cell_type": "markdown",
   "metadata": {},
   "source": [
    "## Preprocessing the data with the Keras tokenizer"
   ]
  },
  {
   "cell_type": "code",
   "execution_count": 340,
   "metadata": {},
   "outputs": [],
   "source": [
    "tokenizer = Tokenizer()\n",
    "tokenizer.fit_on_texts(jokes_short)"
   ]
  },
  {
   "cell_type": "code",
   "execution_count": 379,
   "metadata": {},
   "outputs": [],
   "source": [
    "total_words = len(tokenizer.word_index)+1\n"
   ]
  },
  {
   "cell_type": "code",
   "execution_count": 4,
   "metadata": {},
   "outputs": [],
   "source": [
    "#print(total_words)"
   ]
  },
  {
   "cell_type": "code",
   "execution_count": 5,
   "metadata": {},
   "outputs": [],
   "source": [
    "#print(tokenizer.word_index)\n",
    "#print(total_words)"
   ]
  },
  {
   "cell_type": "code",
   "execution_count": 382,
   "metadata": {},
   "outputs": [],
   "source": [
    "#generating ngrams for the jokes\n",
    "input_sequences = []\n",
    "\n",
    "for joke in jokes_short:\n",
    "    token_list = tokenizer.texts_to_sequences([joke])[0]\n",
    "    \n",
    "    for i in range(1, len(token_list)):\n",
    "        n_gram_sequence = token_list[:i+1]\n",
    "        input_sequences.append(n_gram_sequence)\n",
    "        \n",
    "    "
   ]
  },
  {
   "cell_type": "code",
   "execution_count": 383,
   "metadata": {},
   "outputs": [],
   "source": [
    "#padding sequences\n",
    "\n",
    "max_sequence_len = max([len(x) for x in input_sequences])-1\n",
    "input_sequences = np.array(pad_sequences(input_sequences, maxlen=max_sequence_len, padding='pre'))\n",
    "\n",
    "#create predictor and labels\n",
    "xs, labels = input_sequences[:,:-1], input_sequences[:,-1]\n",
    "\n",
    "ys = tf.keras.utils.to_categorical(labels, num_classes = total_words)"
   ]
  },
  {
   "cell_type": "code",
   "execution_count": 6,
   "metadata": {},
   "outputs": [],
   "source": [
    "#print(input_sequences.shape)\n",
    "#print(ys.shape)"
   ]
  },
  {
   "cell_type": "code",
   "execution_count": 7,
   "metadata": {},
   "outputs": [],
   "source": [
    "#print(tokenizer.word_index[\"dog\"])\n",
    "#print(tokenizer.word_index[\"ass\"])\n",
    "#print(tokenizer.word_index[\"the\"])\n",
    "#print(tokenizer.word_index[\"guy\"])"
   ]
  },
  {
   "cell_type": "code",
   "execution_count": 8,
   "metadata": {},
   "outputs": [],
   "source": [
    "#print(xs[95])"
   ]
  },
  {
   "cell_type": "code",
   "execution_count": 390,
   "metadata": {},
   "outputs": [],
   "source": [
    "#print(tokenizer.word_index)"
   ]
  },
  {
   "cell_type": "code",
   "execution_count": 391,
   "metadata": {},
   "outputs": [
    {
     "name": "stdout",
     "output_type": "stream",
     "text": [
      "Model: \"sequential_16\"\n",
      "_________________________________________________________________\n",
      "Layer (type)                 Output Shape              Param #   \n",
      "=================================================================\n",
      "embedding_16 (Embedding)     (None, 39, 100)           637200    \n",
      "_________________________________________________________________\n",
      "bidirectional_16 (Bidirectio (None, 400)               481600    \n",
      "_________________________________________________________________\n",
      "dense_16 (Dense)             (None, 6372)              2555172   \n",
      "=================================================================\n",
      "Total params: 3,673,972\n",
      "Trainable params: 3,673,972\n",
      "Non-trainable params: 0\n",
      "_________________________________________________________________\n"
     ]
    }
   ],
   "source": [
    "#build the model\n",
    "\n",
    "model = Sequential()\n",
    "model.add(Embedding(total_words, 100, input_length=max_sequence_len-1))\n",
    "model.add(Bidirectional(LSTM(200)))\n",
    "model.add(Dense(total_words, activation='softmax'))\n",
    "adam = Adam(lr=0.01)\n",
    "model.summary()"
   ]
  },
  {
   "cell_type": "code",
   "execution_count": 328,
   "metadata": {},
   "outputs": [],
   "source": [
    "#compile the model with standard settings for the Adam optimizer - feel free to toggle with the custom lr parameter set in the model\n",
    "model.compile(loss='categorical_crossentropy', optimizer='adam', metrics = ['accuracy'])\n"
   ]
  },
  {
   "cell_type": "code",
   "execution_count": 330,
   "metadata": {},
   "outputs": [
    {
     "name": "stdout",
     "output_type": "stream",
     "text": [
      "Train on 33018 samples\n",
      "Epoch 1/70\n",
      "33018/33018 - 106s - loss: 6.7243 - accuracy: 0.0633\n",
      "Epoch 2/70\n",
      "33018/33018 - 106s - loss: 6.1027 - accuracy: 0.1007\n",
      "Epoch 3/70\n",
      "33018/33018 - 107s - loss: 5.5528 - accuracy: 0.1301\n",
      "Epoch 4/70\n",
      "33018/33018 - 98s - loss: 5.0114 - accuracy: 0.1535\n",
      "Epoch 5/70\n",
      "33018/33018 - 94s - loss: 4.4840 - accuracy: 0.1835\n",
      "Epoch 6/70\n",
      "33018/33018 - 92s - loss: 3.9806 - accuracy: 0.2318\n",
      "Epoch 7/70\n",
      "33018/33018 - 92s - loss: 3.5074 - accuracy: 0.2999\n",
      "Epoch 8/70\n",
      "33018/33018 - 92s - loss: 3.0795 - accuracy: 0.3735\n",
      "Epoch 9/70\n",
      "33018/33018 - 92s - loss: 2.7017 - accuracy: 0.4395\n",
      "Epoch 10/70\n",
      "33018/33018 - 93s - loss: 2.3682 - accuracy: 0.5065\n",
      "Epoch 11/70\n",
      "33018/33018 - 92s - loss: 2.0834 - accuracy: 0.5616\n",
      "Epoch 12/70\n",
      "33018/33018 - 92s - loss: 1.8251 - accuracy: 0.6174\n",
      "Epoch 13/70\n",
      "33018/33018 - 92s - loss: 1.6015 - accuracy: 0.6664\n",
      "Epoch 14/70\n",
      "33018/33018 - 107s - loss: 1.4010 - accuracy: 0.7099\n",
      "Epoch 15/70\n",
      "33018/33018 - 99s - loss: 1.2237 - accuracy: 0.7535\n",
      "Epoch 16/70\n",
      "33018/33018 - 97s - loss: 1.0681 - accuracy: 0.7879\n",
      "Epoch 17/70\n",
      "33018/33018 - 98s - loss: 0.9328 - accuracy: 0.8176\n",
      "Epoch 18/70\n",
      "33018/33018 - 94s - loss: 0.8184 - accuracy: 0.8432\n",
      "Epoch 19/70\n",
      "33018/33018 - 101s - loss: 0.7231 - accuracy: 0.8624\n",
      "Epoch 20/70\n",
      "33018/33018 - 97s - loss: 0.6371 - accuracy: 0.8807\n",
      "Epoch 21/70\n",
      "33018/33018 - 98s - loss: 0.5683 - accuracy: 0.8935\n",
      "Epoch 22/70\n",
      "33018/33018 - 97s - loss: 0.5134 - accuracy: 0.9021\n",
      "Epoch 23/70\n",
      "33018/33018 - 97s - loss: 0.4688 - accuracy: 0.9095\n",
      "Epoch 24/70\n",
      "33018/33018 - 97s - loss: 0.4339 - accuracy: 0.9128\n",
      "Epoch 25/70\n",
      "33018/33018 - 96s - loss: 0.4050 - accuracy: 0.9177\n",
      "Epoch 26/70\n",
      "33018/33018 - 97s - loss: 0.3831 - accuracy: 0.9205\n",
      "Epoch 27/70\n",
      "33018/33018 - 95s - loss: 0.3627 - accuracy: 0.9226\n",
      "Epoch 28/70\n",
      "33018/33018 - 97s - loss: 0.3537 - accuracy: 0.9223\n",
      "Epoch 29/70\n",
      "33018/33018 - 95s - loss: 0.3410 - accuracy: 0.9240\n",
      "Epoch 30/70\n",
      "33018/33018 - 97s - loss: 0.3304 - accuracy: 0.9250\n",
      "Epoch 31/70\n",
      "33018/33018 - 96s - loss: 0.3187 - accuracy: 0.9259\n",
      "Epoch 32/70\n",
      "33018/33018 - 97s - loss: 0.3164 - accuracy: 0.9254\n",
      "Epoch 33/70\n",
      "33018/33018 - 96s - loss: 0.3227 - accuracy: 0.9247\n",
      "Epoch 34/70\n",
      "33018/33018 - 97s - loss: 0.3082 - accuracy: 0.9259\n",
      "Epoch 35/70\n",
      "33018/33018 - 96s - loss: 0.2958 - accuracy: 0.9266\n",
      "Epoch 36/70\n",
      "33018/33018 - 97s - loss: 0.2940 - accuracy: 0.9276\n",
      "Epoch 37/70\n",
      "33018/33018 - 96s - loss: 0.3107 - accuracy: 0.9236\n",
      "Epoch 38/70\n",
      "33018/33018 - 96s - loss: 0.3087 - accuracy: 0.9243\n",
      "Epoch 39/70\n",
      "33018/33018 - 95s - loss: 0.2887 - accuracy: 0.9269\n",
      "Epoch 40/70\n",
      "33018/33018 - 95s - loss: 0.2827 - accuracy: 0.9265\n",
      "Epoch 41/70\n",
      "33018/33018 - 96s - loss: 0.2810 - accuracy: 0.9278\n",
      "Epoch 42/70\n",
      "33018/33018 - 95s - loss: 0.2840 - accuracy: 0.9265\n",
      "Epoch 43/70\n",
      "33018/33018 - 98s - loss: 0.3173 - accuracy: 0.9213\n",
      "Epoch 44/70\n",
      "33018/33018 - 98s - loss: 0.2953 - accuracy: 0.9245\n",
      "Epoch 45/70\n",
      "33018/33018 - 96s - loss: 0.2740 - accuracy: 0.9272\n",
      "Epoch 46/70\n",
      "33018/33018 - 96s - loss: 0.2721 - accuracy: 0.9272\n",
      "Epoch 47/70\n",
      "33018/33018 - 95s - loss: 0.2738 - accuracy: 0.9279\n",
      "Epoch 48/70\n",
      "33018/33018 - 95s - loss: 0.2831 - accuracy: 0.9265\n",
      "Epoch 49/70\n",
      "33018/33018 - 96s - loss: 0.3386 - accuracy: 0.9118\n",
      "Epoch 50/70\n",
      "33018/33018 - 95s - loss: 0.2788 - accuracy: 0.9272\n",
      "Epoch 51/70\n",
      "33018/33018 - 96s - loss: 0.2686 - accuracy: 0.9276\n",
      "Epoch 52/70\n",
      "33018/33018 - 95s - loss: 0.2676 - accuracy: 0.9282\n",
      "Epoch 53/70\n",
      "33018/33018 - 97s - loss: 0.2682 - accuracy: 0.9282\n",
      "Epoch 54/70\n",
      "33018/33018 - 96s - loss: 0.2703 - accuracy: 0.9274\n",
      "Epoch 55/70\n",
      "33018/33018 - 96s - loss: 0.3053 - accuracy: 0.9192\n",
      "Epoch 56/70\n",
      "33018/33018 - 96s - loss: 0.3465 - accuracy: 0.9084\n",
      "Epoch 57/70\n",
      "33018/33018 - 95s - loss: 0.2715 - accuracy: 0.9269\n",
      "Epoch 58/70\n",
      "33018/33018 - 96s - loss: 0.2628 - accuracy: 0.9283\n",
      "Epoch 59/70\n",
      "33018/33018 - 96s - loss: 0.2626 - accuracy: 0.9281\n",
      "Epoch 60/70\n",
      "33018/33018 - 95s - loss: 0.2658 - accuracy: 0.9274\n",
      "Epoch 61/70\n",
      "33018/33018 - 97s - loss: 0.2802 - accuracy: 0.9255\n",
      "Epoch 62/70\n",
      "33018/33018 - 96s - loss: 0.3303 - accuracy: 0.9129\n",
      "Epoch 63/70\n",
      "33018/33018 - 105s - loss: 0.2746 - accuracy: 0.9259\n",
      "Epoch 64/70\n",
      "33018/33018 - 108s - loss: 0.2641 - accuracy: 0.9279\n",
      "Epoch 65/70\n",
      "33018/33018 - 97s - loss: 0.2621 - accuracy: 0.9283\n",
      "Epoch 66/70\n",
      "33018/33018 - 96s - loss: 0.2631 - accuracy: 0.9281\n",
      "Epoch 67/70\n",
      "33018/33018 - 99s - loss: 0.2666 - accuracy: 0.9271\n",
      "Epoch 68/70\n",
      "33018/33018 - 96s - loss: 0.3220 - accuracy: 0.9137\n",
      "Epoch 69/70\n",
      "33018/33018 - 97s - loss: 0.2862 - accuracy: 0.9228\n",
      "Epoch 70/70\n",
      "33018/33018 - 96s - loss: 0.2637 - accuracy: 0.9274\n",
      "<tensorflow.python.keras.engine.sequential.Sequential object at 0x7fde6aa46470>\n"
     ]
    }
   ],
   "source": [
    "#start training\n",
    "history = model.fit(xs, ys, epochs = 70, verbose = 2)\n",
    "print(model)"
   ]
  },
  {
   "cell_type": "code",
   "execution_count": 331,
   "metadata": {},
   "outputs": [],
   "source": [
    "import matplotlib.pyplot as plt\n",
    "\n",
    "\n",
    "def plot_graphs(history, string):\n",
    "  plt.plot(history.history[string])\n",
    "  plt.xlabel(\"Epochs\")\n",
    "  plt.ylabel(string)\n",
    "  plt.show()"
   ]
  },
  {
   "cell_type": "code",
   "execution_count": 332,
   "metadata": {},
   "outputs": [
    {
     "data": {
      "image/png": "[encoded data removed]",
      "text/plain": [
       "<Figure size 432x288 with 1 Axes>"
      ]
     },
     "metadata": {
      "needs_background": "light"
     },
     "output_type": "display_data"
    }
   ],
   "source": [
    "plot_graphs(history, 'accuracy')"
   ]
  },
  {
   "cell_type": "code",
   "execution_count": 333,
   "metadata": {},
   "outputs": [
    {
     "name": "stdout",
     "output_type": "stream",
     "text": [
      "blue whale joke is the best part about a redneck family piece\n"
     ]
    }
   ],
   "source": [
    "seed_text = \"a guy walks into a bar\"\n",
    "next_words = 10\n",
    "  \n",
    "for _ in range(next_words):\n",
    "\ttoken_list = tokenizer.texts_to_sequences([seed_text])[0]\n",
    "\ttoken_list = pad_sequences([token_list], maxlen=max_sequence_len-1, padding='pre')\n",
    "\tpredicted = model.predict_classes(token_list, verbose=0)\n",
    "\toutput_word = \"\"\n",
    "\tfor word, index in tokenizer.word_index.items():\n",
    "\t\tif index == predicted:\n",
    "\t\t\toutput_word = word\n",
    "\t\t\tbreak\n",
    "\tseed_text += \" \" + output_word\n",
    "print(seed_text)"
   ]
  },
  {
   "cell_type": "code",
   "execution_count": 360,
   "metadata": {},
   "outputs": [],
   "source": [
    "#saving the trained model\n",
    "model.save('./model_saved', save_format = 'tf')"
   ]
  },
  {
   "cell_type": "code",
   "execution_count": null,
   "metadata": {},
   "outputs": [],
   "source": []
  }
 ],
 "metadata": {
  "kernelspec": {
   "display_name": "Python 3",
   "language": "python",
   "name": "python3"
  },
  "language_info": {
   "codemirror_mode": {
    "name": "ipython",
    "version": 3
   },
   "file_extension": ".py",
   "mimetype": "text/x-python",
   "name": "python",
   "nbconvert_exporter": "python",
   "pygments_lexer": "ipython3",
   "version": "3.7.3"
  }
 },
 "nbformat": 4,
 "nbformat_minor": 2
}
